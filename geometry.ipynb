{
  "nbformat": 4,
  "nbformat_minor": 0,
  "metadata": {
    "colab": {
      "name": "geometry.ipynb",
      "provenance": [],
      "collapsed_sections": [],
      "authorship_tag": "ABX9TyNzGSq1ORObB3cX6o6ib80N",
      "include_colab_link": true
    },
    "kernelspec": {
      "name": "python3",
      "display_name": "Python 3"
    },
    "language_info": {
      "name": "python"
    }
  },
  "cells": [
    {
      "cell_type": "markdown",
      "metadata": {
        "id": "view-in-github",
        "colab_type": "text"
      },
      "source": [
        "<a href=\"https://colab.research.google.com/github/Chan-py/geometry/blob/main/geometry.ipynb\" target=\"_parent\"><img src=\"https://colab.research.google.com/assets/colab-badge.svg\" alt=\"Open In Colab\"/></a>"
      ]
    },
    {
      "cell_type": "code",
      "execution_count": null,
      "metadata": {
        "colab": {
          "base_uri": "https://localhost:8080/",
          "height": 338
        },
        "id": "iXbP_GJB_IpA",
        "outputId": "0376c9d3-6075-4319-fa87-7eb0115a8223"
      },
      "outputs": [
        {
          "name": "stdout",
          "output_type": "stream",
          "text": [
            "A벡터 값을 입력하세요 (x값과 y값 모두 자연수여야 함)\n",
            "1 7\n",
            "B벡터 값을 입력하세요 (x값과 y값 모두 자연수여야 함)\n",
            "8 3\n"
          ]
        },
        {
          "output_type": "display_data",
          "data": {
            "text/plain": [
              "<Figure size 432x288 with 1 Axes>"
            ],
            "image/png": "[encoded data removed]"
          },
          "metadata": {
            "needs_background": "light"
          }
        }
      ],
      "source": [
        "import matplotlib.pyplot as plt\n",
        "import numpy as np\n",
        "x1 = [0]\n",
        "y1 = [0]\n",
        "x2 = [0]\n",
        "y2 = [0]\n",
        "print('A벡터 값을 입력하세요 (x값과 y값 모두 자연수여야 함)')\n",
        "a, b = map(int, input().split())\n",
        "x1.append(a)\n",
        "y1.append(b)\n",
        "print('B벡터 값을 입력하세요 (x값과 y값 모두 자연수여야 함)')\n",
        "c, d = map(int, input().split())\n",
        "x2.append(c)\n",
        "y2.append(d)\n",
        "mx = max(x1[1], y1[1], x2[1], y2[1]) * 11/10\n",
        "mn = min(0, x1[1], y1[1], x2[1], y2[1]) * 11/10\n",
        "plt.axis([mn, mx, mn , mx])\n",
        "plt.gca().set_aspect('equal', adjustable = 'box')\n",
        "plt.plot(x1, y1)\n",
        "plt.plot(x2, y2)\n",
        "plt.legend(['A vector', 'B vector'])\n",
        "plt.grid()"
      ]
    },
    {
      "cell_type": "code",
      "source": [
        "def Getpowlen(x, y):\n",
        "  return x**2 + y**2\n",
        "if Getpowlen(x1[1], y1[1]) <= Getpowlen(x2[1], y2[1]):\n",
        "  first = (x1[1], y1[1])\n",
        "  second = (x2[1], y2[1])\n",
        "else:\n",
        "  first = (x2[1], y2[1])\n",
        "  second = (x1[1], y1[1])\n",
        "m = (-1) * second[0]/second[1] if second[1] != 0 else 0\n",
        "meetx = (m*first[0] - first[1]) / (m + 1/m)\n",
        "meety = meetx * (-1/m)\n",
        "if first[0] < meetx:\n",
        "  x3 = np.arange(first[0], meetx + 0.01, 0.01)\n",
        "else:\n",
        "  x3 = np.arange(meetx, first[0] + 0.01, 0.1)\n",
        "n = first[1] - (m*first[0])\n",
        "y3 = [(m*num + n) for num in x3]\n",
        "plt.axis([mn, mx, mn , mx])\n",
        "plt.gca().set_aspect('equal', adjustable = 'box')\n",
        "plt.plot(x1, y1)\n",
        "plt.plot(x2, y2)\n",
        "plt.plot(x3, y3)\n",
        "plt.legend(['A vector', 'B vector'])\n",
        "plt.scatter(meetx, meety, c = 'm')\n",
        "plt.grid()"
      ],
      "metadata": {
        "colab": {
          "base_uri": "https://localhost:8080/",
          "height": 265
        },
        "id": "qYP_mgefBS0E",
        "outputId": "dd2fccc7-6e72-4f6a-9cbf-3f814fff6b42"
      },
      "execution_count": null,
      "outputs": [
        {
          "output_type": "display_data",
          "data": {
            "text/plain": [
              "<Figure size 432x288 with 1 Axes>"
            ],
            "image/png": "[encoded data removed]"
          },
          "metadata": {
            "needs_background": "light"
          }
        }
      ]
    },
    {
      "cell_type": "code",
      "source": [
        "print('계산을 통해 구한 내적값은 {}이다.'.format(x1[1] * x2[1] + y1[1] * y2[1]))\n",
        "A_vec = Getpowlen(second[0], second[1]) ** (1/2)\n",
        "B_cos_vec = Getpowlen(meetx, meety) ** (1/2)\n",
        "print('그래프를 통해 구한 내적값은 {}이다.'.format(A_vec * B_cos_vec))\n",
        "print('이를 통해 내적의 원리를 알 수 있다')"
      ],
      "metadata": {
        "colab": {
          "base_uri": "https://localhost:8080/"
        },
        "id": "N64IhKCpBy0U",
        "outputId": "1342e6bf-43b7-4ec3-d8ac-54dccea04064"
      },
      "execution_count": null,
      "outputs": [
        {
          "output_type": "stream",
          "name": "stdout",
          "text": [
            "계산을 통해 구한 내적값은 29이다.\n",
            "그래프를 통해 구한 내적값은 28.999999999999993이다.\n",
            "이를 통해 내적의 원리를 알 수 있다\n"
          ]
        }
      ]
    }
  ]
}